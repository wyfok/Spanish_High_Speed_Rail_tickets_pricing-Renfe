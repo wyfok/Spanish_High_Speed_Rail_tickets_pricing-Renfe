{
 "cells": [
  {
   "cell_type": "markdown",
   "metadata": {},
   "source": [
    "# Spanish_High_Speed_Rail_tickets_pricing-Renfe\n"
   ]
  },
  {
   "cell_type": "code",
   "execution_count": 1,
   "metadata": {},
   "outputs": [],
   "source": [
    "# import modules \n",
    "import numpy as np \n",
    "import pandas as pd \n",
    "import matplotlib.pyplot as plt \n",
    "import seaborn as sns "
   ]
  },
  {
   "cell_type": "code",
   "execution_count": 2,
   "metadata": {},
   "outputs": [],
   "source": [
    "data = pd.read_csv('renfe.csv')"
   ]
  },
  {
   "cell_type": "code",
   "execution_count": 3,
   "metadata": {},
   "outputs": [
    {
     "data": {
      "text/html": [
       "<div>\n",
       "<style scoped>\n",
       "    .dataframe tbody tr th:only-of-type {\n",
       "        vertical-align: middle;\n",
       "    }\n",
       "\n",
       "    .dataframe tbody tr th {\n",
       "        vertical-align: top;\n",
       "    }\n",
       "\n",
       "    .dataframe thead th {\n",
       "        text-align: right;\n",
       "    }\n",
       "</style>\n",
       "<table border=\"1\" class=\"dataframe\">\n",
       "  <thead>\n",
       "    <tr style=\"text-align: right;\">\n",
       "      <th></th>\n",
       "      <th>Unnamed: 0</th>\n",
       "      <th>insert_date</th>\n",
       "      <th>origin</th>\n",
       "      <th>destination</th>\n",
       "      <th>start_date</th>\n",
       "      <th>end_date</th>\n",
       "      <th>train_type</th>\n",
       "      <th>price</th>\n",
       "      <th>train_class</th>\n",
       "      <th>fare</th>\n",
       "    </tr>\n",
       "  </thead>\n",
       "  <tbody>\n",
       "    <tr>\n",
       "      <th>0</th>\n",
       "      <td>0</td>\n",
       "      <td>2019-04-19 05:31:43</td>\n",
       "      <td>MADRID</td>\n",
       "      <td>SEVILLA</td>\n",
       "      <td>2019-05-29 06:20:00</td>\n",
       "      <td>2019-05-29 09:16:00</td>\n",
       "      <td>AV City</td>\n",
       "      <td>38.55</td>\n",
       "      <td>Turista</td>\n",
       "      <td>Promo</td>\n",
       "    </tr>\n",
       "    <tr>\n",
       "      <th>1</th>\n",
       "      <td>1</td>\n",
       "      <td>2019-04-19 05:31:43</td>\n",
       "      <td>MADRID</td>\n",
       "      <td>SEVILLA</td>\n",
       "      <td>2019-05-29 07:00:00</td>\n",
       "      <td>2019-05-29 09:32:00</td>\n",
       "      <td>AVE</td>\n",
       "      <td>53.40</td>\n",
       "      <td>Turista</td>\n",
       "      <td>Promo</td>\n",
       "    </tr>\n",
       "    <tr>\n",
       "      <th>2</th>\n",
       "      <td>2</td>\n",
       "      <td>2019-04-19 05:31:43</td>\n",
       "      <td>MADRID</td>\n",
       "      <td>SEVILLA</td>\n",
       "      <td>2019-05-29 07:30:00</td>\n",
       "      <td>2019-05-29 09:51:00</td>\n",
       "      <td>AVE</td>\n",
       "      <td>47.30</td>\n",
       "      <td>Turista</td>\n",
       "      <td>Promo</td>\n",
       "    </tr>\n",
       "    <tr>\n",
       "      <th>3</th>\n",
       "      <td>3</td>\n",
       "      <td>2019-04-19 05:31:43</td>\n",
       "      <td>MADRID</td>\n",
       "      <td>SEVILLA</td>\n",
       "      <td>2019-05-29 08:00:00</td>\n",
       "      <td>2019-05-29 10:32:00</td>\n",
       "      <td>AVE</td>\n",
       "      <td>69.40</td>\n",
       "      <td>Preferente</td>\n",
       "      <td>Promo</td>\n",
       "    </tr>\n",
       "    <tr>\n",
       "      <th>4</th>\n",
       "      <td>4</td>\n",
       "      <td>2019-04-19 05:31:43</td>\n",
       "      <td>MADRID</td>\n",
       "      <td>SEVILLA</td>\n",
       "      <td>2019-05-29 08:30:00</td>\n",
       "      <td>2019-05-29 11:14:00</td>\n",
       "      <td>ALVIA</td>\n",
       "      <td>NaN</td>\n",
       "      <td>Turista</td>\n",
       "      <td>Promo</td>\n",
       "    </tr>\n",
       "  </tbody>\n",
       "</table>\n",
       "</div>"
      ],
      "text/plain": [
       "   Unnamed: 0          insert_date  origin destination           start_date  \\\n",
       "0           0  2019-04-19 05:31:43  MADRID     SEVILLA  2019-05-29 06:20:00   \n",
       "1           1  2019-04-19 05:31:43  MADRID     SEVILLA  2019-05-29 07:00:00   \n",
       "2           2  2019-04-19 05:31:43  MADRID     SEVILLA  2019-05-29 07:30:00   \n",
       "3           3  2019-04-19 05:31:43  MADRID     SEVILLA  2019-05-29 08:00:00   \n",
       "4           4  2019-04-19 05:31:43  MADRID     SEVILLA  2019-05-29 08:30:00   \n",
       "\n",
       "              end_date train_type  price train_class   fare  \n",
       "0  2019-05-29 09:16:00    AV City  38.55     Turista  Promo  \n",
       "1  2019-05-29 09:32:00        AVE  53.40     Turista  Promo  \n",
       "2  2019-05-29 09:51:00        AVE  47.30     Turista  Promo  \n",
       "3  2019-05-29 10:32:00        AVE  69.40  Preferente  Promo  \n",
       "4  2019-05-29 11:14:00      ALVIA    NaN     Turista  Promo  "
      ]
     },
     "execution_count": 3,
     "metadata": {},
     "output_type": "execute_result"
    }
   ],
   "source": [
    "data.head()"
   ]
  },
  {
   "cell_type": "code",
   "execution_count": 4,
   "metadata": {},
   "outputs": [
    {
     "name": "stdout",
     "output_type": "stream",
     "text": [
      "<class 'pandas.core.frame.DataFrame'>\n",
      "RangeIndex: 2579771 entries, 0 to 2579770\n",
      "Data columns (total 10 columns):\n",
      "Unnamed: 0     int64\n",
      "insert_date    object\n",
      "origin         object\n",
      "destination    object\n",
      "start_date     object\n",
      "end_date       object\n",
      "train_type     object\n",
      "price          float64\n",
      "train_class    object\n",
      "fare           object\n",
      "dtypes: float64(1), int64(1), object(8)\n",
      "memory usage: 196.8+ MB\n"
     ]
    }
   ],
   "source": [
    "data.info()"
   ]
  },
  {
   "cell_type": "markdown",
   "metadata": {},
   "source": [
    "First step is to clean the dataset "
   ]
  },
  {
   "cell_type": "code",
   "execution_count": 5,
   "metadata": {},
   "outputs": [],
   "source": [
    "# remove the first \"Unnamed: 0\" column\n",
    "data = data.iloc[:,1:]"
   ]
  },
  {
   "cell_type": "code",
   "execution_count": 6,
   "metadata": {},
   "outputs": [],
   "source": [
    "# set \"insert_date\" ,\"start_date\" and \"end_date\" in datetime format\n",
    "for col in [\"insert_date\" ,\"start_date\" , \"end_date\"]:\n",
    "    data[col] = pd.to_datetime(data[col])"
   ]
  },
  {
   "cell_type": "code",
   "execution_count": 7,
   "metadata": {},
   "outputs": [],
   "source": [
    "# set in datetime format and set it as index \n",
    "data.set_index('insert_date',inplace=True)"
   ]
  },
  {
   "cell_type": "code",
   "execution_count": 8,
   "metadata": {},
   "outputs": [
    {
     "name": "stdout",
     "output_type": "stream",
     "text": [
      "<class 'pandas.core.frame.DataFrame'>\n",
      "DatetimeIndex: 2579771 entries, 2019-04-19 05:31:43 to 2019-04-19 05:31:38\n",
      "Data columns (total 8 columns):\n",
      "origin         object\n",
      "destination    object\n",
      "start_date     datetime64[ns]\n",
      "end_date       datetime64[ns]\n",
      "train_type     object\n",
      "price          float64\n",
      "train_class    object\n",
      "fare           object\n",
      "dtypes: datetime64[ns](2), float64(1), object(5)\n",
      "memory usage: 177.1+ MB\n"
     ]
    }
   ],
   "source": [
    "data.info()"
   ]
  },
  {
   "cell_type": "code",
   "execution_count": 9,
   "metadata": {},
   "outputs": [
    {
     "data": {
      "text/html": [
       "<div>\n",
       "<style scoped>\n",
       "    .dataframe tbody tr th:only-of-type {\n",
       "        vertical-align: middle;\n",
       "    }\n",
       "\n",
       "    .dataframe tbody tr th {\n",
       "        vertical-align: top;\n",
       "    }\n",
       "\n",
       "    .dataframe thead th {\n",
       "        text-align: right;\n",
       "    }\n",
       "</style>\n",
       "<table border=\"1\" class=\"dataframe\">\n",
       "  <thead>\n",
       "    <tr style=\"text-align: right;\">\n",
       "      <th></th>\n",
       "      <th>origin</th>\n",
       "      <th>destination</th>\n",
       "      <th>start_date</th>\n",
       "      <th>end_date</th>\n",
       "      <th>train_type</th>\n",
       "      <th>price</th>\n",
       "      <th>train_class</th>\n",
       "      <th>fare</th>\n",
       "    </tr>\n",
       "    <tr>\n",
       "      <th>insert_date</th>\n",
       "      <th></th>\n",
       "      <th></th>\n",
       "      <th></th>\n",
       "      <th></th>\n",
       "      <th></th>\n",
       "      <th></th>\n",
       "      <th></th>\n",
       "      <th></th>\n",
       "    </tr>\n",
       "  </thead>\n",
       "  <tbody>\n",
       "    <tr>\n",
       "      <th>2019-04-19 05:31:43</th>\n",
       "      <td>MADRID</td>\n",
       "      <td>SEVILLA</td>\n",
       "      <td>2019-05-29 06:20:00</td>\n",
       "      <td>2019-05-29 09:16:00</td>\n",
       "      <td>AV City</td>\n",
       "      <td>38.55</td>\n",
       "      <td>Turista</td>\n",
       "      <td>Promo</td>\n",
       "    </tr>\n",
       "    <tr>\n",
       "      <th>2019-04-19 05:31:43</th>\n",
       "      <td>MADRID</td>\n",
       "      <td>SEVILLA</td>\n",
       "      <td>2019-05-29 07:00:00</td>\n",
       "      <td>2019-05-29 09:32:00</td>\n",
       "      <td>AVE</td>\n",
       "      <td>53.40</td>\n",
       "      <td>Turista</td>\n",
       "      <td>Promo</td>\n",
       "    </tr>\n",
       "    <tr>\n",
       "      <th>2019-04-19 05:31:43</th>\n",
       "      <td>MADRID</td>\n",
       "      <td>SEVILLA</td>\n",
       "      <td>2019-05-29 07:30:00</td>\n",
       "      <td>2019-05-29 09:51:00</td>\n",
       "      <td>AVE</td>\n",
       "      <td>47.30</td>\n",
       "      <td>Turista</td>\n",
       "      <td>Promo</td>\n",
       "    </tr>\n",
       "    <tr>\n",
       "      <th>2019-04-19 05:31:43</th>\n",
       "      <td>MADRID</td>\n",
       "      <td>SEVILLA</td>\n",
       "      <td>2019-05-29 08:00:00</td>\n",
       "      <td>2019-05-29 10:32:00</td>\n",
       "      <td>AVE</td>\n",
       "      <td>69.40</td>\n",
       "      <td>Preferente</td>\n",
       "      <td>Promo</td>\n",
       "    </tr>\n",
       "    <tr>\n",
       "      <th>2019-04-19 05:31:43</th>\n",
       "      <td>MADRID</td>\n",
       "      <td>SEVILLA</td>\n",
       "      <td>2019-05-29 08:30:00</td>\n",
       "      <td>2019-05-29 11:14:00</td>\n",
       "      <td>ALVIA</td>\n",
       "      <td>NaN</td>\n",
       "      <td>Turista</td>\n",
       "      <td>Promo</td>\n",
       "    </tr>\n",
       "  </tbody>\n",
       "</table>\n",
       "</div>"
      ],
      "text/plain": [
       "                     origin destination          start_date  \\\n",
       "insert_date                                                   \n",
       "2019-04-19 05:31:43  MADRID     SEVILLA 2019-05-29 06:20:00   \n",
       "2019-04-19 05:31:43  MADRID     SEVILLA 2019-05-29 07:00:00   \n",
       "2019-04-19 05:31:43  MADRID     SEVILLA 2019-05-29 07:30:00   \n",
       "2019-04-19 05:31:43  MADRID     SEVILLA 2019-05-29 08:00:00   \n",
       "2019-04-19 05:31:43  MADRID     SEVILLA 2019-05-29 08:30:00   \n",
       "\n",
       "                               end_date train_type  price train_class   fare  \n",
       "insert_date                                                                   \n",
       "2019-04-19 05:31:43 2019-05-29 09:16:00    AV City  38.55     Turista  Promo  \n",
       "2019-04-19 05:31:43 2019-05-29 09:32:00        AVE  53.40     Turista  Promo  \n",
       "2019-04-19 05:31:43 2019-05-29 09:51:00        AVE  47.30     Turista  Promo  \n",
       "2019-04-19 05:31:43 2019-05-29 10:32:00        AVE  69.40  Preferente  Promo  \n",
       "2019-04-19 05:31:43 2019-05-29 11:14:00      ALVIA    NaN     Turista  Promo  "
      ]
     },
     "execution_count": 9,
     "metadata": {},
     "output_type": "execute_result"
    }
   ],
   "source": [
    "data.head()"
   ]
  },
  {
   "cell_type": "markdown",
   "metadata": {},
   "source": [
    "Next step is to check if there is missing value"
   ]
  },
  {
   "cell_type": "code",
   "execution_count": 10,
   "metadata": {},
   "outputs": [
    {
     "data": {
      "text/plain": [
       "origin              0\n",
       "destination         0\n",
       "start_date          0\n",
       "end_date            0\n",
       "train_type          0\n",
       "price          310681\n",
       "train_class      9664\n",
       "fare             9664\n",
       "dtype: int64"
      ]
     },
     "execution_count": 10,
     "metadata": {},
     "output_type": "execute_result"
    }
   ],
   "source": [
    "data.isnull().sum()"
   ]
  },
  {
   "cell_type": "markdown",
   "metadata": {},
   "source": [
    "Since there are too many missing values, instead of removing from the dataset, replacing missing values with mean values is more appropriate. \n",
    "<br>Since origin, destination and train_type have no missing values,and train_class and fare have fewer missing values than price, by using these information can help match with more accurate mean price.\n",
    "<br>Missing values for train_class and fare are determined by mode of records with the same origin and destination"
   ]
  },
  {
   "cell_type": "markdown",
   "metadata": {},
   "source": [
    "First step is to find the average price for each combinaiton\n",
    "<br>This can be done by using groupby function"
   ]
  },
  {
   "cell_type": "code",
   "execution_count": 11,
   "metadata": {},
   "outputs": [],
   "source": [
    "avg_price_by_type = data[~np.isnan(data['price'])].groupby(['origin','destination','train_type','train_class','fare']).agg({'price':np.mean})\n"
   ]
  },
  {
   "cell_type": "code",
   "execution_count": 12,
   "metadata": {},
   "outputs": [
    {
     "data": {
      "text/html": [
       "<div>\n",
       "<style scoped>\n",
       "    .dataframe tbody tr th:only-of-type {\n",
       "        vertical-align: middle;\n",
       "    }\n",
       "\n",
       "    .dataframe tbody tr th {\n",
       "        vertical-align: top;\n",
       "    }\n",
       "\n",
       "    .dataframe thead th {\n",
       "        text-align: right;\n",
       "    }\n",
       "</style>\n",
       "<table border=\"1\" class=\"dataframe\">\n",
       "  <thead>\n",
       "    <tr style=\"text-align: right;\">\n",
       "      <th></th>\n",
       "      <th></th>\n",
       "      <th></th>\n",
       "      <th></th>\n",
       "      <th></th>\n",
       "      <th>price</th>\n",
       "    </tr>\n",
       "    <tr>\n",
       "      <th>origin</th>\n",
       "      <th>destination</th>\n",
       "      <th>train_type</th>\n",
       "      <th>train_class</th>\n",
       "      <th>fare</th>\n",
       "      <th></th>\n",
       "    </tr>\n",
       "  </thead>\n",
       "  <tbody>\n",
       "    <tr>\n",
       "      <th rowspan=\"5\" valign=\"top\">BARCELONA</th>\n",
       "      <th rowspan=\"5\" valign=\"top\">MADRID</th>\n",
       "      <th rowspan=\"5\" valign=\"top\">AVE</th>\n",
       "      <th rowspan=\"3\" valign=\"top\">Preferente</th>\n",
       "      <th>Flexible</th>\n",
       "      <td>183.374394</td>\n",
       "    </tr>\n",
       "    <tr>\n",
       "      <th>Promo</th>\n",
       "      <td>98.457835</td>\n",
       "    </tr>\n",
       "    <tr>\n",
       "      <th>Promo +</th>\n",
       "      <td>105.000000</td>\n",
       "    </tr>\n",
       "    <tr>\n",
       "      <th rowspan=\"2\" valign=\"top\">Turista</th>\n",
       "      <th>Flexible</th>\n",
       "      <td>112.274480</td>\n",
       "    </tr>\n",
       "    <tr>\n",
       "      <th>Promo</th>\n",
       "      <td>77.878941</td>\n",
       "    </tr>\n",
       "  </tbody>\n",
       "</table>\n",
       "</div>"
      ],
      "text/plain": [
       "                                                            price\n",
       "origin    destination train_type train_class fare                \n",
       "BARCELONA MADRID      AVE        Preferente  Flexible  183.374394\n",
       "                                             Promo      98.457835\n",
       "                                             Promo +   105.000000\n",
       "                                 Turista     Flexible  112.274480\n",
       "                                             Promo      77.878941"
      ]
     },
     "execution_count": 12,
     "metadata": {},
     "output_type": "execute_result"
    }
   ],
   "source": [
    "avg_price_by_type.head()"
   ]
  },
  {
   "cell_type": "markdown",
   "metadata": {},
   "source": [
    "Second step is to fill the mean value back to the data table "
   ]
  },
  {
   "cell_type": "code",
   "execution_count": 13,
   "metadata": {},
   "outputs": [
    {
     "data": {
      "text/html": [
       "<div>\n",
       "<style scoped>\n",
       "    .dataframe tbody tr th:only-of-type {\n",
       "        vertical-align: middle;\n",
       "    }\n",
       "\n",
       "    .dataframe tbody tr th {\n",
       "        vertical-align: top;\n",
       "    }\n",
       "\n",
       "    .dataframe thead th {\n",
       "        text-align: right;\n",
       "    }\n",
       "</style>\n",
       "<table border=\"1\" class=\"dataframe\">\n",
       "  <thead>\n",
       "    <tr style=\"text-align: right;\">\n",
       "      <th></th>\n",
       "      <th>origin</th>\n",
       "      <th>destination</th>\n",
       "      <th>start_date</th>\n",
       "      <th>end_date</th>\n",
       "      <th>train_type</th>\n",
       "      <th>price</th>\n",
       "      <th>train_class</th>\n",
       "      <th>fare</th>\n",
       "    </tr>\n",
       "    <tr>\n",
       "      <th>insert_date</th>\n",
       "      <th></th>\n",
       "      <th></th>\n",
       "      <th></th>\n",
       "      <th></th>\n",
       "      <th></th>\n",
       "      <th></th>\n",
       "      <th></th>\n",
       "      <th></th>\n",
       "    </tr>\n",
       "  </thead>\n",
       "  <tbody>\n",
       "    <tr>\n",
       "      <th>2019-04-19 05:31:43</th>\n",
       "      <td>MADRID</td>\n",
       "      <td>SEVILLA</td>\n",
       "      <td>2019-05-29 06:20:00</td>\n",
       "      <td>2019-05-29 09:16:00</td>\n",
       "      <td>AV City</td>\n",
       "      <td>38.55</td>\n",
       "      <td>Turista</td>\n",
       "      <td>Promo</td>\n",
       "    </tr>\n",
       "    <tr>\n",
       "      <th>2019-04-19 05:31:43</th>\n",
       "      <td>MADRID</td>\n",
       "      <td>SEVILLA</td>\n",
       "      <td>2019-05-29 07:00:00</td>\n",
       "      <td>2019-05-29 09:32:00</td>\n",
       "      <td>AVE</td>\n",
       "      <td>53.40</td>\n",
       "      <td>Turista</td>\n",
       "      <td>Promo</td>\n",
       "    </tr>\n",
       "    <tr>\n",
       "      <th>2019-04-19 05:31:43</th>\n",
       "      <td>MADRID</td>\n",
       "      <td>SEVILLA</td>\n",
       "      <td>2019-05-29 07:30:00</td>\n",
       "      <td>2019-05-29 09:51:00</td>\n",
       "      <td>AVE</td>\n",
       "      <td>47.30</td>\n",
       "      <td>Turista</td>\n",
       "      <td>Promo</td>\n",
       "    </tr>\n",
       "    <tr>\n",
       "      <th>2019-04-19 05:31:43</th>\n",
       "      <td>MADRID</td>\n",
       "      <td>SEVILLA</td>\n",
       "      <td>2019-05-29 08:00:00</td>\n",
       "      <td>2019-05-29 10:32:00</td>\n",
       "      <td>AVE</td>\n",
       "      <td>69.40</td>\n",
       "      <td>Preferente</td>\n",
       "      <td>Promo</td>\n",
       "    </tr>\n",
       "    <tr>\n",
       "      <th>2019-04-19 05:31:43</th>\n",
       "      <td>MADRID</td>\n",
       "      <td>SEVILLA</td>\n",
       "      <td>2019-05-29 08:30:00</td>\n",
       "      <td>2019-05-29 11:14:00</td>\n",
       "      <td>ALVIA</td>\n",
       "      <td>NaN</td>\n",
       "      <td>Turista</td>\n",
       "      <td>Promo</td>\n",
       "    </tr>\n",
       "  </tbody>\n",
       "</table>\n",
       "</div>"
      ],
      "text/plain": [
       "                     origin destination          start_date  \\\n",
       "insert_date                                                   \n",
       "2019-04-19 05:31:43  MADRID     SEVILLA 2019-05-29 06:20:00   \n",
       "2019-04-19 05:31:43  MADRID     SEVILLA 2019-05-29 07:00:00   \n",
       "2019-04-19 05:31:43  MADRID     SEVILLA 2019-05-29 07:30:00   \n",
       "2019-04-19 05:31:43  MADRID     SEVILLA 2019-05-29 08:00:00   \n",
       "2019-04-19 05:31:43  MADRID     SEVILLA 2019-05-29 08:30:00   \n",
       "\n",
       "                               end_date train_type  price train_class   fare  \n",
       "insert_date                                                                   \n",
       "2019-04-19 05:31:43 2019-05-29 09:16:00    AV City  38.55     Turista  Promo  \n",
       "2019-04-19 05:31:43 2019-05-29 09:32:00        AVE  53.40     Turista  Promo  \n",
       "2019-04-19 05:31:43 2019-05-29 09:51:00        AVE  47.30     Turista  Promo  \n",
       "2019-04-19 05:31:43 2019-05-29 10:32:00        AVE  69.40  Preferente  Promo  \n",
       "2019-04-19 05:31:43 2019-05-29 11:14:00      ALVIA    NaN     Turista  Promo  "
      ]
     },
     "execution_count": 13,
     "metadata": {},
     "output_type": "execute_result"
    }
   ],
   "source": [
    "data.head()"
   ]
  },
  {
   "cell_type": "code",
   "execution_count": 14,
   "metadata": {},
   "outputs": [],
   "source": [
    "data.reset_index(drop=False,inplace=True)\n",
    "data.set_index(['origin','destination','train_type','train_class','fare'], inplace=True)"
   ]
  },
  {
   "cell_type": "code",
   "execution_count": 15,
   "metadata": {},
   "outputs": [
    {
     "data": {
      "text/html": [
       "<div>\n",
       "<style scoped>\n",
       "    .dataframe tbody tr th:only-of-type {\n",
       "        vertical-align: middle;\n",
       "    }\n",
       "\n",
       "    .dataframe tbody tr th {\n",
       "        vertical-align: top;\n",
       "    }\n",
       "\n",
       "    .dataframe thead th {\n",
       "        text-align: right;\n",
       "    }\n",
       "</style>\n",
       "<table border=\"1\" class=\"dataframe\">\n",
       "  <thead>\n",
       "    <tr style=\"text-align: right;\">\n",
       "      <th></th>\n",
       "      <th></th>\n",
       "      <th></th>\n",
       "      <th></th>\n",
       "      <th></th>\n",
       "      <th>insert_date</th>\n",
       "      <th>start_date</th>\n",
       "      <th>end_date</th>\n",
       "      <th>price</th>\n",
       "    </tr>\n",
       "    <tr>\n",
       "      <th>origin</th>\n",
       "      <th>destination</th>\n",
       "      <th>train_type</th>\n",
       "      <th>train_class</th>\n",
       "      <th>fare</th>\n",
       "      <th></th>\n",
       "      <th></th>\n",
       "      <th></th>\n",
       "      <th></th>\n",
       "    </tr>\n",
       "  </thead>\n",
       "  <tbody>\n",
       "    <tr>\n",
       "      <th rowspan=\"5\" valign=\"top\">MADRID</th>\n",
       "      <th rowspan=\"5\" valign=\"top\">SEVILLA</th>\n",
       "      <th>AV City</th>\n",
       "      <th>Turista</th>\n",
       "      <th>Promo</th>\n",
       "      <td>2019-04-19 05:31:43</td>\n",
       "      <td>2019-05-29 06:20:00</td>\n",
       "      <td>2019-05-29 09:16:00</td>\n",
       "      <td>38.55</td>\n",
       "    </tr>\n",
       "    <tr>\n",
       "      <th rowspan=\"3\" valign=\"top\">AVE</th>\n",
       "      <th rowspan=\"2\" valign=\"top\">Turista</th>\n",
       "      <th>Promo</th>\n",
       "      <td>2019-04-19 05:31:43</td>\n",
       "      <td>2019-05-29 07:00:00</td>\n",
       "      <td>2019-05-29 09:32:00</td>\n",
       "      <td>53.40</td>\n",
       "    </tr>\n",
       "    <tr>\n",
       "      <th>Promo</th>\n",
       "      <td>2019-04-19 05:31:43</td>\n",
       "      <td>2019-05-29 07:30:00</td>\n",
       "      <td>2019-05-29 09:51:00</td>\n",
       "      <td>47.30</td>\n",
       "    </tr>\n",
       "    <tr>\n",
       "      <th>Preferente</th>\n",
       "      <th>Promo</th>\n",
       "      <td>2019-04-19 05:31:43</td>\n",
       "      <td>2019-05-29 08:00:00</td>\n",
       "      <td>2019-05-29 10:32:00</td>\n",
       "      <td>69.40</td>\n",
       "    </tr>\n",
       "    <tr>\n",
       "      <th>ALVIA</th>\n",
       "      <th>Turista</th>\n",
       "      <th>Promo</th>\n",
       "      <td>2019-04-19 05:31:43</td>\n",
       "      <td>2019-05-29 08:30:00</td>\n",
       "      <td>2019-05-29 11:14:00</td>\n",
       "      <td>NaN</td>\n",
       "    </tr>\n",
       "  </tbody>\n",
       "</table>\n",
       "</div>"
      ],
      "text/plain": [
       "                                                        insert_date  \\\n",
       "origin destination train_type train_class fare                        \n",
       "MADRID SEVILLA     AV City    Turista     Promo 2019-04-19 05:31:43   \n",
       "                   AVE        Turista     Promo 2019-04-19 05:31:43   \n",
       "                                          Promo 2019-04-19 05:31:43   \n",
       "                              Preferente  Promo 2019-04-19 05:31:43   \n",
       "                   ALVIA      Turista     Promo 2019-04-19 05:31:43   \n",
       "\n",
       "                                                         start_date  \\\n",
       "origin destination train_type train_class fare                        \n",
       "MADRID SEVILLA     AV City    Turista     Promo 2019-05-29 06:20:00   \n",
       "                   AVE        Turista     Promo 2019-05-29 07:00:00   \n",
       "                                          Promo 2019-05-29 07:30:00   \n",
       "                              Preferente  Promo 2019-05-29 08:00:00   \n",
       "                   ALVIA      Turista     Promo 2019-05-29 08:30:00   \n",
       "\n",
       "                                                           end_date  price  \n",
       "origin destination train_type train_class fare                              \n",
       "MADRID SEVILLA     AV City    Turista     Promo 2019-05-29 09:16:00  38.55  \n",
       "                   AVE        Turista     Promo 2019-05-29 09:32:00  53.40  \n",
       "                                          Promo 2019-05-29 09:51:00  47.30  \n",
       "                              Preferente  Promo 2019-05-29 10:32:00  69.40  \n",
       "                   ALVIA      Turista     Promo 2019-05-29 11:14:00    NaN  "
      ]
     },
     "execution_count": 15,
     "metadata": {},
     "output_type": "execute_result"
    }
   ],
   "source": [
    "data.head()"
   ]
  },
  {
   "cell_type": "code",
   "execution_count": 16,
   "metadata": {},
   "outputs": [],
   "source": [
    "data['price'].fillna(avg_price_by_type['price'],inplace=True)"
   ]
  },
  {
   "cell_type": "code",
   "execution_count": 17,
   "metadata": {
    "scrolled": true
   },
   "outputs": [
    {
     "data": {
      "text/plain": [
       "insert_date        0\n",
       "start_date         0\n",
       "end_date           0\n",
       "price          53521\n",
       "dtype: int64"
      ]
     },
     "execution_count": 17,
     "metadata": {},
     "output_type": "execute_result"
    }
   ],
   "source": [
    "data.isnull().sum()"
   ]
  },
  {
   "cell_type": "markdown",
   "metadata": {},
   "source": [
    "Successfully reduce missing price records from over 310k to only 53k, only 2% of overall records left.\n",
    "<br>To simplify, these records are deleted."
   ]
  },
  {
   "cell_type": "code",
   "execution_count": 18,
   "metadata": {},
   "outputs": [],
   "source": [
    "data.dropna(inplace=True)"
   ]
  },
  {
   "cell_type": "code",
   "execution_count": 19,
   "metadata": {},
   "outputs": [],
   "source": [
    "data.reset_index( inplace=True)"
   ]
  },
  {
   "cell_type": "code",
   "execution_count": 20,
   "metadata": {},
   "outputs": [
    {
     "data": {
      "text/plain": [
       "origin         0\n",
       "destination    0\n",
       "train_type     0\n",
       "train_class    0\n",
       "fare           0\n",
       "insert_date    0\n",
       "start_date     0\n",
       "end_date       0\n",
       "price          0\n",
       "dtype: int64"
      ]
     },
     "execution_count": 20,
     "metadata": {},
     "output_type": "execute_result"
    }
   ],
   "source": [
    "data.isnull().sum()"
   ]
  },
  {
   "cell_type": "markdown",
   "metadata": {},
   "source": [
    "So by eliminating records with missing fare, those missing records from train_class and fare are also eliminated.\n",
    "<br>Now we can explore the dataset"
   ]
  },
  {
   "cell_type": "code",
   "execution_count": 21,
   "metadata": {},
   "outputs": [],
   "source": [
    "data.set_index('insert_date',inplace=True)"
   ]
  },
  {
   "cell_type": "code",
   "execution_count": 22,
   "metadata": {},
   "outputs": [
    {
     "data": {
      "text/html": [
       "<div>\n",
       "<style scoped>\n",
       "    .dataframe tbody tr th:only-of-type {\n",
       "        vertical-align: middle;\n",
       "    }\n",
       "\n",
       "    .dataframe tbody tr th {\n",
       "        vertical-align: top;\n",
       "    }\n",
       "\n",
       "    .dataframe thead th {\n",
       "        text-align: right;\n",
       "    }\n",
       "</style>\n",
       "<table border=\"1\" class=\"dataframe\">\n",
       "  <thead>\n",
       "    <tr style=\"text-align: right;\">\n",
       "      <th></th>\n",
       "      <th>origin</th>\n",
       "      <th>destination</th>\n",
       "      <th>train_type</th>\n",
       "      <th>train_class</th>\n",
       "      <th>fare</th>\n",
       "      <th>start_date</th>\n",
       "      <th>end_date</th>\n",
       "      <th>price</th>\n",
       "    </tr>\n",
       "    <tr>\n",
       "      <th>insert_date</th>\n",
       "      <th></th>\n",
       "      <th></th>\n",
       "      <th></th>\n",
       "      <th></th>\n",
       "      <th></th>\n",
       "      <th></th>\n",
       "      <th></th>\n",
       "      <th></th>\n",
       "    </tr>\n",
       "  </thead>\n",
       "  <tbody>\n",
       "    <tr>\n",
       "      <th>2019-04-19 05:31:43</th>\n",
       "      <td>MADRID</td>\n",
       "      <td>SEVILLA</td>\n",
       "      <td>AV City</td>\n",
       "      <td>Turista</td>\n",
       "      <td>Promo</td>\n",
       "      <td>2019-05-29 06:20:00</td>\n",
       "      <td>2019-05-29 09:16:00</td>\n",
       "      <td>38.55000</td>\n",
       "    </tr>\n",
       "    <tr>\n",
       "      <th>2019-04-19 05:31:43</th>\n",
       "      <td>MADRID</td>\n",
       "      <td>SEVILLA</td>\n",
       "      <td>AVE</td>\n",
       "      <td>Turista</td>\n",
       "      <td>Promo</td>\n",
       "      <td>2019-05-29 07:00:00</td>\n",
       "      <td>2019-05-29 09:32:00</td>\n",
       "      <td>53.40000</td>\n",
       "    </tr>\n",
       "    <tr>\n",
       "      <th>2019-04-19 05:31:43</th>\n",
       "      <td>MADRID</td>\n",
       "      <td>SEVILLA</td>\n",
       "      <td>AVE</td>\n",
       "      <td>Turista</td>\n",
       "      <td>Promo</td>\n",
       "      <td>2019-05-29 07:30:00</td>\n",
       "      <td>2019-05-29 09:51:00</td>\n",
       "      <td>47.30000</td>\n",
       "    </tr>\n",
       "    <tr>\n",
       "      <th>2019-04-19 05:31:43</th>\n",
       "      <td>MADRID</td>\n",
       "      <td>SEVILLA</td>\n",
       "      <td>AVE</td>\n",
       "      <td>Preferente</td>\n",
       "      <td>Promo</td>\n",
       "      <td>2019-05-29 08:00:00</td>\n",
       "      <td>2019-05-29 10:32:00</td>\n",
       "      <td>69.40000</td>\n",
       "    </tr>\n",
       "    <tr>\n",
       "      <th>2019-04-19 05:31:43</th>\n",
       "      <td>MADRID</td>\n",
       "      <td>SEVILLA</td>\n",
       "      <td>ALVIA</td>\n",
       "      <td>Turista</td>\n",
       "      <td>Promo</td>\n",
       "      <td>2019-05-29 08:30:00</td>\n",
       "      <td>2019-05-29 11:14:00</td>\n",
       "      <td>44.76199</td>\n",
       "    </tr>\n",
       "  </tbody>\n",
       "</table>\n",
       "</div>"
      ],
      "text/plain": [
       "                     origin destination train_type train_class   fare  \\\n",
       "insert_date                                                             \n",
       "2019-04-19 05:31:43  MADRID     SEVILLA    AV City     Turista  Promo   \n",
       "2019-04-19 05:31:43  MADRID     SEVILLA        AVE     Turista  Promo   \n",
       "2019-04-19 05:31:43  MADRID     SEVILLA        AVE     Turista  Promo   \n",
       "2019-04-19 05:31:43  MADRID     SEVILLA        AVE  Preferente  Promo   \n",
       "2019-04-19 05:31:43  MADRID     SEVILLA      ALVIA     Turista  Promo   \n",
       "\n",
       "                             start_date            end_date     price  \n",
       "insert_date                                                            \n",
       "2019-04-19 05:31:43 2019-05-29 06:20:00 2019-05-29 09:16:00  38.55000  \n",
       "2019-04-19 05:31:43 2019-05-29 07:00:00 2019-05-29 09:32:00  53.40000  \n",
       "2019-04-19 05:31:43 2019-05-29 07:30:00 2019-05-29 09:51:00  47.30000  \n",
       "2019-04-19 05:31:43 2019-05-29 08:00:00 2019-05-29 10:32:00  69.40000  \n",
       "2019-04-19 05:31:43 2019-05-29 08:30:00 2019-05-29 11:14:00  44.76199  "
      ]
     },
     "execution_count": 22,
     "metadata": {},
     "output_type": "execute_result"
    }
   ],
   "source": [
    "data.head()"
   ]
  },
  {
   "cell_type": "code",
   "execution_count": 23,
   "metadata": {},
   "outputs": [
    {
     "data": {
      "text/html": [
       "<div>\n",
       "<style scoped>\n",
       "    .dataframe tbody tr th:only-of-type {\n",
       "        vertical-align: middle;\n",
       "    }\n",
       "\n",
       "    .dataframe tbody tr th {\n",
       "        vertical-align: top;\n",
       "    }\n",
       "\n",
       "    .dataframe thead th {\n",
       "        text-align: right;\n",
       "    }\n",
       "</style>\n",
       "<table border=\"1\" class=\"dataframe\">\n",
       "  <thead>\n",
       "    <tr style=\"text-align: right;\">\n",
       "      <th>destination</th>\n",
       "      <th>BARCELONA</th>\n",
       "      <th>MADRID</th>\n",
       "      <th>PONFERRADA</th>\n",
       "      <th>SEVILLA</th>\n",
       "      <th>VALENCIA</th>\n",
       "    </tr>\n",
       "    <tr>\n",
       "      <th>origin</th>\n",
       "      <th></th>\n",
       "      <th></th>\n",
       "      <th></th>\n",
       "      <th></th>\n",
       "      <th></th>\n",
       "    </tr>\n",
       "  </thead>\n",
       "  <tbody>\n",
       "    <tr>\n",
       "      <th>BARCELONA</th>\n",
       "      <td>NaN</td>\n",
       "      <td>401453.0</td>\n",
       "      <td>NaN</td>\n",
       "      <td>NaN</td>\n",
       "      <td>NaN</td>\n",
       "    </tr>\n",
       "    <tr>\n",
       "      <th>MADRID</th>\n",
       "      <td>476811.0</td>\n",
       "      <td>NaN</td>\n",
       "      <td>64330.0</td>\n",
       "      <td>405791.0</td>\n",
       "      <td>390257.0</td>\n",
       "    </tr>\n",
       "    <tr>\n",
       "      <th>PONFERRADA</th>\n",
       "      <td>NaN</td>\n",
       "      <td>78663.0</td>\n",
       "      <td>NaN</td>\n",
       "      <td>NaN</td>\n",
       "      <td>NaN</td>\n",
       "    </tr>\n",
       "    <tr>\n",
       "      <th>SEVILLA</th>\n",
       "      <td>NaN</td>\n",
       "      <td>389162.0</td>\n",
       "      <td>NaN</td>\n",
       "      <td>NaN</td>\n",
       "      <td>NaN</td>\n",
       "    </tr>\n",
       "    <tr>\n",
       "      <th>VALENCIA</th>\n",
       "      <td>NaN</td>\n",
       "      <td>319783.0</td>\n",
       "      <td>NaN</td>\n",
       "      <td>NaN</td>\n",
       "      <td>NaN</td>\n",
       "    </tr>\n",
       "  </tbody>\n",
       "</table>\n",
       "</div>"
      ],
      "text/plain": [
       "destination  BARCELONA    MADRID  PONFERRADA   SEVILLA  VALENCIA\n",
       "origin                                                          \n",
       "BARCELONA          NaN  401453.0         NaN       NaN       NaN\n",
       "MADRID        476811.0       NaN     64330.0  405791.0  390257.0\n",
       "PONFERRADA         NaN   78663.0         NaN       NaN       NaN\n",
       "SEVILLA            NaN  389162.0         NaN       NaN       NaN\n",
       "VALENCIA           NaN  319783.0         NaN       NaN       NaN"
      ]
     },
     "execution_count": 23,
     "metadata": {},
     "output_type": "execute_result"
    }
   ],
   "source": [
    "data.pivot_table(index='origin',columns='destination',values='price',aggfunc='count')"
   ]
  },
  {
   "cell_type": "markdown",
   "metadata": {},
   "source": [
    "So Madrid is a terminal to connect all other four cities. \n",
    "<br>Also, the most crowded route is between madrid and barcelona, while between ponferrada and madrid is the least crowded "
   ]
  },
  {
   "cell_type": "markdown",
   "metadata": {},
   "source": [
    "Since madrid-barcelona is the most crowded route, below will study it more"
   ]
  },
  {
   "cell_type": "code",
   "execution_count": 24,
   "metadata": {},
   "outputs": [],
   "source": [
    "data_b_m = data[(data['origin']=='BARCELONA')&(data['destination']=='MADRID')]\n",
    "data_m_b = data[(data['origin']=='MADRID')&(data['destination']=='BARCELONA')]"
   ]
  },
  {
   "cell_type": "code",
   "execution_count": 25,
   "metadata": {},
   "outputs": [
    {
     "data": {
      "text/plain": [
       "2243"
      ]
     },
     "execution_count": 25,
     "metadata": {},
     "output_type": "execute_result"
    }
   ],
   "source": [
    "len(set(data_b_m['start_date']))"
   ]
  },
  {
   "cell_type": "code",
   "execution_count": 26,
   "metadata": {},
   "outputs": [
    {
     "data": {
      "text/plain": [
       "2230"
      ]
     },
     "execution_count": 26,
     "metadata": {},
     "output_type": "execute_result"
    }
   ],
   "source": [
    "len(set(data_m_b['start_date']))"
   ]
  },
  {
   "cell_type": "markdown",
   "metadata": {},
   "source": [
    "So in total there are 2243 trains from Barcelona to Madrid and 2230 trains from Madrid to Barcelona "
   ]
  },
  {
   "cell_type": "markdown",
   "metadata": {},
   "source": [
    "## From Barcelona to Madrid"
   ]
  },
  {
   "cell_type": "markdown",
   "metadata": {},
   "source": [
    "This part will study the relation between train_type, ticket fare and price "
   ]
  },
  {
   "cell_type": "code",
   "execution_count": 27,
   "metadata": {
    "scrolled": true
   },
   "outputs": [
    {
     "data": {
      "text/plain": [
       "train_type\n",
       "AVE          368298\n",
       "AVE-TGV       15607\n",
       "R. EXPRES     17548\n",
       "Name: start_date, dtype: int64"
      ]
     },
     "execution_count": 27,
     "metadata": {},
     "output_type": "execute_result"
    }
   ],
   "source": [
    "data_b_m.groupby('train_type')['start_date'].count()"
   ]
  },
  {
   "cell_type": "code",
   "execution_count": 28,
   "metadata": {},
   "outputs": [
    {
     "data": {
      "text/plain": [
       "train_type\n",
       "AVE          2075\n",
       "AVE-TGV        84\n",
       "R. EXPRES      84\n",
       "Name: start_date, dtype: int64"
      ]
     },
     "execution_count": 28,
     "metadata": {},
     "output_type": "execute_result"
    }
   ],
   "source": [
    "data_b_m.groupby(['train_type'])['start_date'].nunique()"
   ]
  },
  {
   "cell_type": "code",
   "execution_count": 29,
   "metadata": {},
   "outputs": [
    {
     "data": {
      "text/plain": [
       "train_type\n",
       "AVE          177.493012\n",
       "AVE-TGV      185.797619\n",
       "R. EXPRES    208.904762\n",
       "Name: start_date, dtype: float64"
      ]
     },
     "execution_count": 29,
     "metadata": {},
     "output_type": "execute_result"
    }
   ],
   "source": [
    "data_b_m.groupby('train_type')['start_date'].count()/data_b_m.groupby(['train_type'])['start_date'].nunique()"
   ]
  },
  {
   "cell_type": "markdown",
   "metadata": {},
   "source": [
    "AVE is the most common train types among three. However, there are more average passengers in AVE-TGV and R. EXPRES than AVE. \n",
    "<br>Let's see if there are any difference between three"
   ]
  },
  {
   "cell_type": "code",
   "execution_count": 30,
   "metadata": {},
   "outputs": [
    {
     "name": "stderr",
     "output_type": "stream",
     "text": [
      "C:\\Users\\Yuasto\\Anaconda3\\lib\\site-packages\\ipykernel_launcher.py:1: SettingWithCopyWarning: \n",
      "A value is trying to be set on a copy of a slice from a DataFrame.\n",
      "Try using .loc[row_indexer,col_indexer] = value instead\n",
      "\n",
      "See the caveats in the documentation: http://pandas.pydata.org/pandas-docs/stable/indexing.html#indexing-view-versus-copy\n",
      "  \"\"\"Entry point for launching an IPython kernel.\n"
     ]
    }
   ],
   "source": [
    "data_b_m['duration'] = data_b_m['end_date']-data_b_m['start_date']"
   ]
  },
  {
   "cell_type": "code",
   "execution_count": 31,
   "metadata": {},
   "outputs": [
    {
     "name": "stdout",
     "output_type": "stream",
     "text": [
      "train type:  AVE\n",
      "               price                duration\n",
      "count  368298.000000                  368298\n",
      "mean       86.831209  0 days 02:49:36.602316\n",
      "std        20.726545  0 days 00:16:22.926300\n",
      "min        38.800000         0 days 02:30:00\n",
      "25%        75.400000         0 days 02:30:00\n",
      "50%        85.100000         0 days 02:45:00\n",
      "75%       100.400000         0 days 03:10:00\n",
      "max       214.200000         0 days 03:10:00\n",
      "\n",
      "train type:  AVE-TGV\n",
      "              price         duration\n",
      "count  15607.000000            15607\n",
      "mean      85.988873  0 days 02:55:00\n",
      "std       20.239718  0 days 00:00:00\n",
      "min       32.300000  0 days 02:55:00\n",
      "25%       75.400000  0 days 02:55:00\n",
      "50%       83.500000  0 days 02:55:00\n",
      "75%      102.150000  0 days 02:55:00\n",
      "max      181.500000  0 days 02:55:00\n",
      "\n",
      "train type:  R. EXPRES\n",
      "          price         duration\n",
      "count  17548.00            17548\n",
      "mean      43.25  0 days 09:04:00\n",
      "std        0.00  0 days 00:00:00\n",
      "min       43.25  0 days 09:04:00\n",
      "25%       43.25  0 days 09:04:00\n",
      "50%       43.25  0 days 09:04:00\n",
      "75%       43.25  0 days 09:04:00\n",
      "max       43.25  0 days 09:04:00\n",
      "\n"
     ]
    }
   ],
   "source": [
    "for train in ['AVE','AVE-TGV','R. EXPRES']:\n",
    "    print('train type: ',train)\n",
    "    print(data_b_m[data_b_m['train_type']==train].describe())\n",
    "    print()"
   ]
  },
  {
   "cell_type": "markdown",
   "metadata": {},
   "source": [
    "The possible reason that R. EXPRES is popular is because of its cheap ticket price. It's only half other two train types.\n",
    "<br>However, the duration requires 9 hours while other two only need around 3 hours.\n",
    "<br>One thing is that std=0 for the price from R. EXPRES. Therefore we can assume that there is only one fare for R. RXPREs. "
   ]
  },
  {
   "cell_type": "code",
   "execution_count": 32,
   "metadata": {},
   "outputs": [
    {
     "data": {
      "text/plain": [
       "{'Adulto ida'}"
      ]
     },
     "execution_count": 32,
     "metadata": {},
     "output_type": "execute_result"
    }
   ],
   "source": [
    "set(data_b_m[data_b_m['train_type']=='R. EXPRES']['fare'])"
   ]
  },
  {
   "cell_type": "markdown",
   "metadata": {},
   "source": [
    "As expected. "
   ]
  },
  {
   "cell_type": "markdown",
   "metadata": {},
   "source": [
    "Then we can focus more about the remaining two train types. First is to see the price vs fare for each train type"
   ]
  },
  {
   "cell_type": "code",
   "execution_count": 33,
   "metadata": {},
   "outputs": [
    {
     "data": {
      "text/html": [
       "<div>\n",
       "<style scoped>\n",
       "    .dataframe tbody tr th:only-of-type {\n",
       "        vertical-align: middle;\n",
       "    }\n",
       "\n",
       "    .dataframe tbody tr th {\n",
       "        vertical-align: top;\n",
       "    }\n",
       "\n",
       "    .dataframe thead tr th {\n",
       "        text-align: left;\n",
       "    }\n",
       "\n",
       "    .dataframe thead tr:last-of-type th {\n",
       "        text-align: right;\n",
       "    }\n",
       "</style>\n",
       "<table border=\"1\" class=\"dataframe\">\n",
       "  <thead>\n",
       "    <tr>\n",
       "      <th></th>\n",
       "      <th></th>\n",
       "      <th colspan=\"3\" halign=\"left\">price</th>\n",
       "    </tr>\n",
       "    <tr>\n",
       "      <th></th>\n",
       "      <th></th>\n",
       "      <th>count</th>\n",
       "      <th>mean</th>\n",
       "      <th>std</th>\n",
       "    </tr>\n",
       "    <tr>\n",
       "      <th>train_type</th>\n",
       "      <th>fare</th>\n",
       "      <th></th>\n",
       "      <th></th>\n",
       "      <th></th>\n",
       "    </tr>\n",
       "  </thead>\n",
       "  <tbody>\n",
       "    <tr>\n",
       "      <th rowspan=\"3\" valign=\"top\">AVE</th>\n",
       "      <th>Flexible</th>\n",
       "      <td>51347</td>\n",
       "      <td>118.318214</td>\n",
       "      <td>20.755564</td>\n",
       "    </tr>\n",
       "    <tr>\n",
       "      <th>Promo</th>\n",
       "      <td>316948</td>\n",
       "      <td>81.730000</td>\n",
       "      <td>15.580683</td>\n",
       "    </tr>\n",
       "    <tr>\n",
       "      <th>Promo +</th>\n",
       "      <td>3</td>\n",
       "      <td>105.000000</td>\n",
       "      <td>0.000000</td>\n",
       "    </tr>\n",
       "    <tr>\n",
       "      <th rowspan=\"2\" valign=\"top\">AVE-TGV</th>\n",
       "      <th>Flexible</th>\n",
       "      <td>2757</td>\n",
       "      <td>114.825444</td>\n",
       "      <td>20.280373</td>\n",
       "    </tr>\n",
       "    <tr>\n",
       "      <th>Promo</th>\n",
       "      <td>12850</td>\n",
       "      <td>79.801914</td>\n",
       "      <td>13.878715</td>\n",
       "    </tr>\n",
       "    <tr>\n",
       "      <th>R. EXPRES</th>\n",
       "      <th>Adulto ida</th>\n",
       "      <td>17548</td>\n",
       "      <td>43.250000</td>\n",
       "      <td>0.000000</td>\n",
       "    </tr>\n",
       "  </tbody>\n",
       "</table>\n",
       "</div>"
      ],
      "text/plain": [
       "                        price                       \n",
       "                        count        mean        std\n",
       "train_type fare                                     \n",
       "AVE        Flexible     51347  118.318214  20.755564\n",
       "           Promo       316948   81.730000  15.580683\n",
       "           Promo +          3  105.000000   0.000000\n",
       "AVE-TGV    Flexible      2757  114.825444  20.280373\n",
       "           Promo        12850   79.801914  13.878715\n",
       "R. EXPRES  Adulto ida   17548   43.250000   0.000000"
      ]
     },
     "execution_count": 33,
     "metadata": {},
     "output_type": "execute_result"
    }
   ],
   "source": [
    "data_b_m.groupby(['train_type','fare']).agg({'price':['count',np.mean,np.std]})"
   ]
  },
  {
   "cell_type": "markdown",
   "metadata": {},
   "source": [
    "Promo is the cheapest type and Flexible is the most expensive one.\n",
    "<br>This is expected as normally flexible ticket has less restricted condition on the usage of ticket or cancellation.\n",
    "<br><br>Also around 80% of tickets are in Promo type in both AVE and AVE-TGV train types"
   ]
  },
  {
   "cell_type": "markdown",
   "metadata": {},
   "source": [
    "Now let's move to the return trip"
   ]
  },
  {
   "cell_type": "markdown",
   "metadata": {},
   "source": [
    "## From Madrid to Barcelona"
   ]
  },
  {
   "cell_type": "markdown",
   "metadata": {},
   "source": [
    "This part will study about the number of journey and discover any pattern"
   ]
  },
  {
   "cell_type": "code",
   "execution_count": 34,
   "metadata": {},
   "outputs": [
    {
     "name": "stdout",
     "output_type": "stream",
     "text": [
      "2019-04-12 05:50:00\n",
      "2019-07-07 23:55:00\n"
     ]
    }
   ],
   "source": [
    "print(data_m_b['start_date'].min())\n",
    "print(data_m_b['end_date'].max())"
   ]
  },
  {
   "cell_type": "code",
   "execution_count": 35,
   "metadata": {},
   "outputs": [
    {
     "name": "stderr",
     "output_type": "stream",
     "text": [
      "C:\\Users\\Yuasto\\Anaconda3\\lib\\site-packages\\ipykernel_launcher.py:1: SettingWithCopyWarning: \n",
      "A value is trying to be set on a copy of a slice from a DataFrame.\n",
      "Try using .loc[row_indexer,col_indexer] = value instead\n",
      "\n",
      "See the caveats in the documentation: http://pandas.pydata.org/pandas-docs/stable/indexing.html#indexing-view-versus-copy\n",
      "  \"\"\"Entry point for launching an IPython kernel.\n",
      "C:\\Users\\Yuasto\\Anaconda3\\lib\\site-packages\\ipykernel_launcher.py:2: SettingWithCopyWarning: \n",
      "A value is trying to be set on a copy of a slice from a DataFrame.\n",
      "Try using .loc[row_indexer,col_indexer] = value instead\n",
      "\n",
      "See the caveats in the documentation: http://pandas.pydata.org/pandas-docs/stable/indexing.html#indexing-view-versus-copy\n",
      "  \n",
      "C:\\Users\\Yuasto\\Anaconda3\\lib\\site-packages\\ipykernel_launcher.py:3: SettingWithCopyWarning: \n",
      "A value is trying to be set on a copy of a slice from a DataFrame.\n",
      "Try using .loc[row_indexer,col_indexer] = value instead\n",
      "\n",
      "See the caveats in the documentation: http://pandas.pydata.org/pandas-docs/stable/indexing.html#indexing-view-versus-copy\n",
      "  This is separate from the ipykernel package so we can avoid doing imports until\n",
      "C:\\Users\\Yuasto\\Anaconda3\\lib\\site-packages\\ipykernel_launcher.py:4: SettingWithCopyWarning: \n",
      "A value is trying to be set on a copy of a slice from a DataFrame.\n",
      "Try using .loc[row_indexer,col_indexer] = value instead\n",
      "\n",
      "See the caveats in the documentation: http://pandas.pydata.org/pandas-docs/stable/indexing.html#indexing-view-versus-copy\n",
      "  after removing the cwd from sys.path.\n",
      "C:\\Users\\Yuasto\\Anaconda3\\lib\\site-packages\\ipykernel_launcher.py:6: SettingWithCopyWarning: \n",
      "A value is trying to be set on a copy of a slice from a DataFrame.\n",
      "Try using .loc[row_indexer,col_indexer] = value instead\n",
      "\n",
      "See the caveats in the documentation: http://pandas.pydata.org/pandas-docs/stable/indexing.html#indexing-view-versus-copy\n",
      "  \n",
      "C:\\Users\\Yuasto\\Anaconda3\\lib\\site-packages\\ipykernel_launcher.py:7: SettingWithCopyWarning: \n",
      "A value is trying to be set on a copy of a slice from a DataFrame.\n",
      "Try using .loc[row_indexer,col_indexer] = value instead\n",
      "\n",
      "See the caveats in the documentation: http://pandas.pydata.org/pandas-docs/stable/indexing.html#indexing-view-versus-copy\n",
      "  import sys\n",
      "C:\\Users\\Yuasto\\Anaconda3\\lib\\site-packages\\ipykernel_launcher.py:8: SettingWithCopyWarning: \n",
      "A value is trying to be set on a copy of a slice from a DataFrame.\n",
      "Try using .loc[row_indexer,col_indexer] = value instead\n",
      "\n",
      "See the caveats in the documentation: http://pandas.pydata.org/pandas-docs/stable/indexing.html#indexing-view-versus-copy\n",
      "  \n",
      "C:\\Users\\Yuasto\\Anaconda3\\lib\\site-packages\\ipykernel_launcher.py:9: SettingWithCopyWarning: \n",
      "A value is trying to be set on a copy of a slice from a DataFrame.\n",
      "Try using .loc[row_indexer,col_indexer] = value instead\n",
      "\n",
      "See the caveats in the documentation: http://pandas.pydata.org/pandas-docs/stable/indexing.html#indexing-view-versus-copy\n",
      "  if __name__ == '__main__':\n"
     ]
    }
   ],
   "source": [
    "data_m_b['start_day'] =data_m_b['start_date'].dt.day\n",
    "data_m_b['start_mth'] =data_m_b['start_date'].dt.month\n",
    "data_m_b['start_hour'] =data_m_b['start_date'].dt.hour\n",
    "data_m_b['start_weekday'] =data_m_b['start_date'].dt.weekday \n",
    "\n",
    "data_m_b['end_day'] =data_m_b['end_date'].dt.day\n",
    "data_m_b['end_mth'] =data_m_b['end_date'].dt.month\n",
    "data_m_b['end_hour'] =data_m_b['end_date'].dt.hour\n",
    "data_m_b['end_weekday'] =data_m_b['end_date'].dt.weekday "
   ]
  },
  {
   "cell_type": "code",
   "execution_count": 36,
   "metadata": {
    "scrolled": true
   },
   "outputs": [
    {
     "data": {
      "text/html": [
       "<div>\n",
       "<style scoped>\n",
       "    .dataframe tbody tr th:only-of-type {\n",
       "        vertical-align: middle;\n",
       "    }\n",
       "\n",
       "    .dataframe tbody tr th {\n",
       "        vertical-align: top;\n",
       "    }\n",
       "\n",
       "    .dataframe thead th {\n",
       "        text-align: right;\n",
       "    }\n",
       "</style>\n",
       "<table border=\"1\" class=\"dataframe\">\n",
       "  <thead>\n",
       "    <tr style=\"text-align: right;\">\n",
       "      <th></th>\n",
       "      <th>origin</th>\n",
       "      <th>destination</th>\n",
       "      <th>train_type</th>\n",
       "      <th>train_class</th>\n",
       "      <th>fare</th>\n",
       "      <th>start_date</th>\n",
       "      <th>end_date</th>\n",
       "      <th>price</th>\n",
       "      <th>start_day</th>\n",
       "      <th>start_mth</th>\n",
       "      <th>start_hour</th>\n",
       "      <th>start_weekday</th>\n",
       "      <th>end_day</th>\n",
       "      <th>end_mth</th>\n",
       "      <th>end_hour</th>\n",
       "      <th>end_weekday</th>\n",
       "    </tr>\n",
       "    <tr>\n",
       "      <th>insert_date</th>\n",
       "      <th></th>\n",
       "      <th></th>\n",
       "      <th></th>\n",
       "      <th></th>\n",
       "      <th></th>\n",
       "      <th></th>\n",
       "      <th></th>\n",
       "      <th></th>\n",
       "      <th></th>\n",
       "      <th></th>\n",
       "      <th></th>\n",
       "      <th></th>\n",
       "      <th></th>\n",
       "      <th></th>\n",
       "      <th></th>\n",
       "      <th></th>\n",
       "    </tr>\n",
       "  </thead>\n",
       "  <tbody>\n",
       "    <tr>\n",
       "      <th>2019-04-19 06:00:47</th>\n",
       "      <td>MADRID</td>\n",
       "      <td>BARCELONA</td>\n",
       "      <td>AVE</td>\n",
       "      <td>Preferente</td>\n",
       "      <td>Promo</td>\n",
       "      <td>2019-04-27 06:20:00</td>\n",
       "      <td>2019-04-27 09:29:00</td>\n",
       "      <td>86.80</td>\n",
       "      <td>27</td>\n",
       "      <td>4</td>\n",
       "      <td>6</td>\n",
       "      <td>5</td>\n",
       "      <td>27</td>\n",
       "      <td>4</td>\n",
       "      <td>9</td>\n",
       "      <td>5</td>\n",
       "    </tr>\n",
       "    <tr>\n",
       "      <th>2019-04-19 06:00:47</th>\n",
       "      <td>MADRID</td>\n",
       "      <td>BARCELONA</td>\n",
       "      <td>AVE</td>\n",
       "      <td>Turista</td>\n",
       "      <td>Promo</td>\n",
       "      <td>2019-04-27 07:30:00</td>\n",
       "      <td>2019-04-27 10:40:00</td>\n",
       "      <td>75.40</td>\n",
       "      <td>27</td>\n",
       "      <td>4</td>\n",
       "      <td>7</td>\n",
       "      <td>5</td>\n",
       "      <td>27</td>\n",
       "      <td>4</td>\n",
       "      <td>10</td>\n",
       "      <td>5</td>\n",
       "    </tr>\n",
       "    <tr>\n",
       "      <th>2019-04-19 06:00:47</th>\n",
       "      <td>MADRID</td>\n",
       "      <td>BARCELONA</td>\n",
       "      <td>AVE</td>\n",
       "      <td>Turista</td>\n",
       "      <td>Flexible</td>\n",
       "      <td>2019-04-27 08:30:00</td>\n",
       "      <td>2019-04-27 11:15:00</td>\n",
       "      <td>107.70</td>\n",
       "      <td>27</td>\n",
       "      <td>4</td>\n",
       "      <td>8</td>\n",
       "      <td>5</td>\n",
       "      <td>27</td>\n",
       "      <td>4</td>\n",
       "      <td>11</td>\n",
       "      <td>5</td>\n",
       "    </tr>\n",
       "    <tr>\n",
       "      <th>2019-04-19 06:00:47</th>\n",
       "      <td>MADRID</td>\n",
       "      <td>BARCELONA</td>\n",
       "      <td>AVE</td>\n",
       "      <td>Turista</td>\n",
       "      <td>Flexible</td>\n",
       "      <td>2019-04-27 09:30:00</td>\n",
       "      <td>2019-04-27 12:34:00</td>\n",
       "      <td>107.70</td>\n",
       "      <td>27</td>\n",
       "      <td>4</td>\n",
       "      <td>9</td>\n",
       "      <td>5</td>\n",
       "      <td>27</td>\n",
       "      <td>4</td>\n",
       "      <td>12</td>\n",
       "      <td>5</td>\n",
       "    </tr>\n",
       "    <tr>\n",
       "      <th>2019-04-19 06:00:47</th>\n",
       "      <td>MADRID</td>\n",
       "      <td>BARCELONA</td>\n",
       "      <td>AVE</td>\n",
       "      <td>Turista Plus</td>\n",
       "      <td>Promo</td>\n",
       "      <td>2019-04-27 10:30:00</td>\n",
       "      <td>2019-04-27 13:15:00</td>\n",
       "      <td>80.15</td>\n",
       "      <td>27</td>\n",
       "      <td>4</td>\n",
       "      <td>10</td>\n",
       "      <td>5</td>\n",
       "      <td>27</td>\n",
       "      <td>4</td>\n",
       "      <td>13</td>\n",
       "      <td>5</td>\n",
       "    </tr>\n",
       "  </tbody>\n",
       "</table>\n",
       "</div>"
      ],
      "text/plain": [
       "                     origin destination train_type   train_class      fare  \\\n",
       "insert_date                                                                  \n",
       "2019-04-19 06:00:47  MADRID   BARCELONA        AVE    Preferente     Promo   \n",
       "2019-04-19 06:00:47  MADRID   BARCELONA        AVE       Turista     Promo   \n",
       "2019-04-19 06:00:47  MADRID   BARCELONA        AVE       Turista  Flexible   \n",
       "2019-04-19 06:00:47  MADRID   BARCELONA        AVE       Turista  Flexible   \n",
       "2019-04-19 06:00:47  MADRID   BARCELONA        AVE  Turista Plus     Promo   \n",
       "\n",
       "                             start_date            end_date   price  \\\n",
       "insert_date                                                           \n",
       "2019-04-19 06:00:47 2019-04-27 06:20:00 2019-04-27 09:29:00   86.80   \n",
       "2019-04-19 06:00:47 2019-04-27 07:30:00 2019-04-27 10:40:00   75.40   \n",
       "2019-04-19 06:00:47 2019-04-27 08:30:00 2019-04-27 11:15:00  107.70   \n",
       "2019-04-19 06:00:47 2019-04-27 09:30:00 2019-04-27 12:34:00  107.70   \n",
       "2019-04-19 06:00:47 2019-04-27 10:30:00 2019-04-27 13:15:00   80.15   \n",
       "\n",
       "                     start_day  start_mth  start_hour  start_weekday  end_day  \\\n",
       "insert_date                                                                     \n",
       "2019-04-19 06:00:47         27          4           6              5       27   \n",
       "2019-04-19 06:00:47         27          4           7              5       27   \n",
       "2019-04-19 06:00:47         27          4           8              5       27   \n",
       "2019-04-19 06:00:47         27          4           9              5       27   \n",
       "2019-04-19 06:00:47         27          4          10              5       27   \n",
       "\n",
       "                     end_mth  end_hour  end_weekday  \n",
       "insert_date                                          \n",
       "2019-04-19 06:00:47        4         9            5  \n",
       "2019-04-19 06:00:47        4        10            5  \n",
       "2019-04-19 06:00:47        4        11            5  \n",
       "2019-04-19 06:00:47        4        12            5  \n",
       "2019-04-19 06:00:47        4        13            5  "
      ]
     },
     "execution_count": 36,
     "metadata": {},
     "output_type": "execute_result"
    }
   ],
   "source": [
    "data_m_b.head()"
   ]
  },
  {
   "cell_type": "markdown",
   "metadata": {},
   "source": [
    "First is to study the relation between ticket price and weekday of travelling "
   ]
  },
  {
   "cell_type": "code",
   "execution_count": 37,
   "metadata": {},
   "outputs": [
    {
     "name": "stdout",
     "output_type": "stream",
     "text": [
      "                                               price            \n",
      "                                               count        mean\n",
      "train_type train_class  fare     start_weekday                  \n",
      "AVE-TGV    Preferente   Flexible 0                81  181.500000\n",
      "                                 1                63  181.500000\n",
      "                                 2               169  181.500000\n",
      "                                 3                20  181.500000\n",
      "                                 4               134  181.500000\n",
      "                                 5                 4  181.500000\n",
      "                                 6               211  181.500000\n",
      "                        Promo    0               171  111.953139\n",
      "                                 1               208  109.331617\n",
      "                                 2               134  108.703869\n",
      "                                 3                57  116.898338\n",
      "                                 4                58  107.342241\n",
      "                                 6               574  114.445489\n",
      "           Turista      Flexible 0               263  107.700000\n",
      "                                 1               263  107.700000\n",
      "                                 2               159  107.700000\n",
      "                                 3               338  107.700000\n",
      "                                 4               166  107.700000\n",
      "                                 5               902  107.700000\n",
      "                                 6               326  107.700000\n",
      "                        Promo    0              1138   73.448580\n",
      "                                 1              1635   66.997962\n",
      "                                 2              1635   60.931387\n",
      "                                 3              2014   64.805343\n",
      "                                 4              1727   81.256673\n",
      "                                 5              1920   77.456543\n",
      "                                 6               676   81.863100\n",
      "           Turista Plus Flexible 0                11  129.300000\n",
      "                                 2               182  129.300000\n",
      "                                 4                15  129.300000\n",
      "                                 5                 5  129.300000\n",
      "                                 6                72  129.300000\n",
      "                        Promo    0               839   91.965742\n",
      "                                 1               345   80.386592\n",
      "                                 2               373   96.091163\n",
      "                                 3               230   89.836304\n",
      "                                 4               691   97.181289\n",
      "                                 5               205   79.539618\n",
      "                                 6              1134   99.602926\n",
      "                                                price            \n",
      "                                                count        mean\n",
      "train_type train_class  fare     start_weekday                   \n",
      "AVE        Preferente   Flexible 0               1063  189.955344\n",
      "                                 1                953  184.177942\n",
      "                                 2                842  188.427404\n",
      "                                 3                359  188.969256\n",
      "                                 4                438  190.637376\n",
      "                                 5                170  150.103273\n",
      "                                 6                528  186.005345\n",
      "                        Promo    0               7537   96.062775\n",
      "                                 1               3741  104.337714\n",
      "                                 2               3026   95.411747\n",
      "                                 3               3475   86.646263\n",
      "                                 4               5070  100.193732\n",
      "                                 5               4319   92.279839\n",
      "                                 6               9347  107.753796\n",
      "           Turista      Flexible 0               7870  111.912682\n",
      "                                 1               9197  113.915809\n",
      "                                 2               6747  112.492326\n",
      "                                 3               5539  113.660090\n",
      "                                 4              11386  114.458600\n",
      "                                 5               2609  108.546811\n",
      "                                 6              14722  112.076831\n",
      "                        Mesa     2                 11  172.400000\n",
      "                                 5                 22  172.400000\n",
      "                        Promo    0              39037   79.745860\n",
      "                                 1              43091   77.807154\n",
      "                                 2              43608   77.852210\n",
      "                                 3              49392   75.480503\n",
      "                                 4              38475   77.975193\n",
      "                                 5              22873   76.072541\n",
      "                                 6              26424   82.808092\n",
      "                        Promo +  0                  1   85.150000\n",
      "                                 3                 31   95.182258\n",
      "           Turista Plus Flexible 0                334  138.023760\n",
      "                                 1                244  131.657790\n",
      "                                 2                182  131.083713\n",
      "                                 3                290  133.907139\n",
      "                                 4                288  134.326507\n",
      "                                 5                 82  130.147578\n",
      "                                 6                116  133.179887\n",
      "                        Mesa     5                 66  206.800000\n",
      "                        Promo    0              12486   85.695662\n",
      "                                 1              12190   88.135425\n",
      "                                 2              12305   88.748480\n",
      "                                 3              10618   84.707705\n",
      "                                 4              11369   92.008433\n",
      "                                 5               9311   81.005411\n",
      "                                 6              11512   91.153129\n",
      "                                                price       \n",
      "                                                count   mean\n",
      "train_type train_class fare       start_weekday             \n",
      "R. EXPRES  Turista     Adulto ida 0              2885  43.25\n",
      "                                  1              2900  43.25\n",
      "                                  2              2665  43.25\n",
      "                                  3              2904  43.25\n",
      "                                  4              3010  43.25\n",
      "                                  6                 3  43.25\n"
     ]
    }
   ],
   "source": [
    "for train in set(data_m_b['train_type']):\n",
    "    print(data_m_b[data_m_b['train_type']==train].groupby(['train_type','train_class','fare','start_weekday']).agg({'price':['count',np.mean]}))"
   ]
  },
  {
   "cell_type": "markdown",
   "metadata": {},
   "source": [
    "From the above results, there are some conclusions:\n",
    "1. There are some combinations with fixed ticket prices, eg. train_type = R. EXPRES , (AVE-TGV,Preferente,Flexible), ...\n",
    "2. Normally, tickets on Sunday are the most expensive within the week\n",
    "3. R. EXPRES seems not in service on Sunday (only 3 records)\n",
    "4. Ranking of ticket fare based on ticket price: Promo, Promo+, Flexible, Mesa"
   ]
  },
  {
   "cell_type": "markdown",
   "metadata": {},
   "source": [
    "Next is to study the pattern of the travelling time "
   ]
  },
  {
   "cell_type": "code",
   "execution_count": 38,
   "metadata": {},
   "outputs": [
    {
     "data": {
      "text/html": [
       "<div>\n",
       "<style scoped>\n",
       "    .dataframe tbody tr th:only-of-type {\n",
       "        vertical-align: middle;\n",
       "    }\n",
       "\n",
       "    .dataframe tbody tr th {\n",
       "        vertical-align: top;\n",
       "    }\n",
       "\n",
       "    .dataframe thead tr th {\n",
       "        text-align: left;\n",
       "    }\n",
       "\n",
       "    .dataframe thead tr:last-of-type th {\n",
       "        text-align: right;\n",
       "    }\n",
       "</style>\n",
       "<table border=\"1\" class=\"dataframe\">\n",
       "  <thead>\n",
       "    <tr>\n",
       "      <th></th>\n",
       "      <th></th>\n",
       "      <th colspan=\"2\" halign=\"left\">price</th>\n",
       "    </tr>\n",
       "    <tr>\n",
       "      <th></th>\n",
       "      <th></th>\n",
       "      <th>count</th>\n",
       "      <th>mean</th>\n",
       "    </tr>\n",
       "    <tr>\n",
       "      <th>train_type</th>\n",
       "      <th>start_hour</th>\n",
       "      <th></th>\n",
       "      <th></th>\n",
       "    </tr>\n",
       "  </thead>\n",
       "  <tbody>\n",
       "    <tr>\n",
       "      <th rowspan=\"16\" valign=\"top\">AVE</th>\n",
       "      <th>5</th>\n",
       "      <td>7892</td>\n",
       "      <td>58.309782</td>\n",
       "    </tr>\n",
       "    <tr>\n",
       "      <th>6</th>\n",
       "      <td>27416</td>\n",
       "      <td>71.348430</td>\n",
       "    </tr>\n",
       "    <tr>\n",
       "      <th>7</th>\n",
       "      <td>40242</td>\n",
       "      <td>86.414485</td>\n",
       "    </tr>\n",
       "    <tr>\n",
       "      <th>8</th>\n",
       "      <td>38646</td>\n",
       "      <td>84.748119</td>\n",
       "    </tr>\n",
       "    <tr>\n",
       "      <th>9</th>\n",
       "      <td>23606</td>\n",
       "      <td>89.187963</td>\n",
       "    </tr>\n",
       "    <tr>\n",
       "      <th>10</th>\n",
       "      <td>19090</td>\n",
       "      <td>84.145071</td>\n",
       "    </tr>\n",
       "    <tr>\n",
       "      <th>11</th>\n",
       "      <td>19112</td>\n",
       "      <td>93.537644</td>\n",
       "    </tr>\n",
       "    <tr>\n",
       "      <th>12</th>\n",
       "      <td>19132</td>\n",
       "      <td>87.731220</td>\n",
       "    </tr>\n",
       "    <tr>\n",
       "      <th>14</th>\n",
       "      <td>30424</td>\n",
       "      <td>87.703028</td>\n",
       "    </tr>\n",
       "    <tr>\n",
       "      <th>15</th>\n",
       "      <td>30456</td>\n",
       "      <td>91.857992</td>\n",
       "    </tr>\n",
       "    <tr>\n",
       "      <th>16</th>\n",
       "      <td>33926</td>\n",
       "      <td>96.555392</td>\n",
       "    </tr>\n",
       "    <tr>\n",
       "      <th>17</th>\n",
       "      <td>34992</td>\n",
       "      <td>94.076632</td>\n",
       "    </tr>\n",
       "    <tr>\n",
       "      <th>18</th>\n",
       "      <td>34058</td>\n",
       "      <td>99.077186</td>\n",
       "    </tr>\n",
       "    <tr>\n",
       "      <th>19</th>\n",
       "      <td>35453</td>\n",
       "      <td>88.868748</td>\n",
       "    </tr>\n",
       "    <tr>\n",
       "      <th>20</th>\n",
       "      <td>33421</td>\n",
       "      <td>81.567890</td>\n",
       "    </tr>\n",
       "    <tr>\n",
       "      <th>21</th>\n",
       "      <td>15430</td>\n",
       "      <td>70.103902</td>\n",
       "    </tr>\n",
       "    <tr>\n",
       "      <th>AVE-TGV</th>\n",
       "      <th>13</th>\n",
       "      <td>19148</td>\n",
       "      <td>87.812527</td>\n",
       "    </tr>\n",
       "    <tr>\n",
       "      <th>R. EXPRES</th>\n",
       "      <th>7</th>\n",
       "      <td>14367</td>\n",
       "      <td>43.250000</td>\n",
       "    </tr>\n",
       "  </tbody>\n",
       "</table>\n",
       "</div>"
      ],
      "text/plain": [
       "                       price           \n",
       "                       count       mean\n",
       "train_type start_hour                  \n",
       "AVE        5            7892  58.309782\n",
       "           6           27416  71.348430\n",
       "           7           40242  86.414485\n",
       "           8           38646  84.748119\n",
       "           9           23606  89.187963\n",
       "           10          19090  84.145071\n",
       "           11          19112  93.537644\n",
       "           12          19132  87.731220\n",
       "           14          30424  87.703028\n",
       "           15          30456  91.857992\n",
       "           16          33926  96.555392\n",
       "           17          34992  94.076632\n",
       "           18          34058  99.077186\n",
       "           19          35453  88.868748\n",
       "           20          33421  81.567890\n",
       "           21          15430  70.103902\n",
       "AVE-TGV    13          19148  87.812527\n",
       "R. EXPRES  7           14367  43.250000"
      ]
     },
     "execution_count": 38,
     "metadata": {},
     "output_type": "execute_result"
    }
   ],
   "source": [
    "data_m_b.groupby(['train_type','start_hour']).agg({'price':['count',np.mean]})"
   ]
  },
  {
   "cell_type": "markdown",
   "metadata": {},
   "source": [
    "Both AVE-TGV and R. EXPRES only have one timeslot from Madrid to Bacelona.\n",
    "<br>There are many available options for AVE, and ticket prices are normally around 90 (except the first two and the lass sessions)\n",
    "<br>Below will further study about records from AVE train"
   ]
  },
  {
   "cell_type": "code",
   "execution_count": 39,
   "metadata": {},
   "outputs": [
    {
     "name": "stderr",
     "output_type": "stream",
     "text": [
      "C:\\Users\\Yuasto\\Anaconda3\\lib\\site-packages\\pandas\\plotting\\_core.py:1001: UserWarning: Attempting to set identical left==right results\n",
      "in singular transformations; automatically expanding.\n",
      "left=8.0, right=8.0\n",
      "  ax.set_xlim(left, right)\n",
      "C:\\Users\\Yuasto\\Anaconda3\\lib\\site-packages\\pandas\\plotting\\_core.py:1001: UserWarning: Attempting to set identical left==right results\n",
      "in singular transformations; automatically expanding.\n",
      "left=8.0, right=8.0\n",
      "  ax.set_xlim(left, right)\n"
     ]
    },
    {
     "data": {
      "image/png": "[encoded data removed]",
      "text/plain": [
       "<Figure size 432x288 with 1 Axes>"
      ]
     },
     "metadata": {
      "needs_background": "light"
     },
     "output_type": "display_data"
    },
    {
     "name": "stdout",
     "output_type": "stream",
     "text": [
      "\n"
     ]
    },
    {
     "data": {
      "image/png": "[encoded data removed]",
      "text/plain": [
       "<Figure size 432x288 with 1 Axes>"
      ]
     },
     "metadata": {
      "needs_background": "light"
     },
     "output_type": "display_data"
    },
    {
     "name": "stdout",
     "output_type": "stream",
     "text": [
      "\n"
     ]
    },
    {
     "data": {
      "image/png": "[encoded data removed]",
      "text/plain": [
       "<Figure size 432x288 with 1 Axes>"
      ]
     },
     "metadata": {
      "needs_background": "light"
     },
     "output_type": "display_data"
    },
    {
     "name": "stdout",
     "output_type": "stream",
     "text": [
      "\n"
     ]
    },
    {
     "data": {
      "image/png": "[encoded data removed]",
      "text/plain": [
       "<Figure size 432x288 with 1 Axes>"
      ]
     },
     "metadata": {
      "needs_background": "light"
     },
     "output_type": "display_data"
    },
    {
     "name": "stdout",
     "output_type": "stream",
     "text": [
      "\n"
     ]
    },
    {
     "data": {
      "image/png": "[encoded data removed]",
      "text/plain": [
       "<Figure size 432x288 with 1 Axes>"
      ]
     },
     "metadata": {
      "needs_background": "light"
     },
     "output_type": "display_data"
    },
    {
     "name": "stdout",
     "output_type": "stream",
     "text": [
      "\n"
     ]
    },
    {
     "data": {
      "image/png": "[encoded data removed]",
      "text/plain": [
       "<Figure size 432x288 with 1 Axes>"
      ]
     },
     "metadata": {
      "needs_background": "light"
     },
     "output_type": "display_data"
    },
    {
     "name": "stdout",
     "output_type": "stream",
     "text": [
      "\n"
     ]
    },
    {
     "data": {
      "image/png": "[encoded data removed]",
      "text/plain": [
       "<Figure size 432x288 with 1 Axes>"
      ]
     },
     "metadata": {
      "needs_background": "light"
     },
     "output_type": "display_data"
    },
    {
     "name": "stdout",
     "output_type": "stream",
     "text": [
      "\n"
     ]
    },
    {
     "data": {
      "image/png": "[encoded data removed]",
      "text/plain": [
       "<Figure size 432x288 with 1 Axes>"
      ]
     },
     "metadata": {
      "needs_background": "light"
     },
     "output_type": "display_data"
    },
    {
     "name": "stdout",
     "output_type": "stream",
     "text": [
      "\n"
     ]
    },
    {
     "data": {
      "image/png": "[encoded data removed]",
      "text/plain": [
       "<Figure size 432x288 with 1 Axes>"
      ]
     },
     "metadata": {
      "needs_background": "light"
     },
     "output_type": "display_data"
    },
    {
     "name": "stdout",
     "output_type": "stream",
     "text": [
      "\n"
     ]
    }
   ],
   "source": [
    "for train_class in set(data_m_b['train_class']):\n",
    "    for fare in set(data_m_b['fare']):\n",
    "        \n",
    "        try:\n",
    "            data_m_b[(data_m_b['train_type']=='AVE') & (data_m_b['train_class']==train_class) & (data_m_b['fare']==fare)]\\\n",
    "        .pivot_table(index='start_hour',columns='start_weekday',values='price',aggfunc=np.mean).plot()\n",
    "            plt.title(\"train_class: {}, fare: {}\".format(train_class,fare))\n",
    "            plt.legend(loc=0)\n",
    "            plt.show()\n",
    "        except TypeError:\n",
    "            continue\n",
    "        print()"
   ]
  },
  {
   "cell_type": "markdown",
   "metadata": {},
   "source": [
    "Obviously the prices are related to the leaving time.\n",
    "<br>There are some times with higher ticket prices , eg: 7, 19 and 20 hours "
   ]
  },
  {
   "cell_type": "markdown",
   "metadata": {},
   "source": []
  }
 ],
 "metadata": {
  "kernelspec": {
   "display_name": "Python 3",
   "language": "python",
   "name": "python3"
  },
  "language_info": {
   "codemirror_mode": {
    "name": "ipython",
    "version": 3
   },
   "file_extension": ".py",
   "mimetype": "text/x-python",
   "name": "python",
   "nbconvert_exporter": "python",
   "pygments_lexer": "ipython3",
   "version": "3.7.3"
  }
 },
 "nbformat": 4,
 "nbformat_minor": 2
}
